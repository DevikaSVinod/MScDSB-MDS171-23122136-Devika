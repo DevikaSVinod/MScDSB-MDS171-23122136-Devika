{
 "cells": [
  {
   "cell_type": "code",
   "execution_count": 2,
   "metadata": {},
   "outputs": [
    {
     "ename": "IndexError",
     "evalue": "string index out of range",
     "output_type": "error",
     "traceback": [
      "\u001b[1;31m---------------------------------------------------------------------------\u001b[0m",
      "\u001b[1;31mIndexError\u001b[0m                                Traceback (most recent call last)",
      "\u001b[1;32mc:\\Users\\IDZ\\Desktop\\Christ\\MScDSB-MDS171-23122136-Devika\\Lab 02.ipynb Cell 1\u001b[0m line \u001b[0;36m3\n\u001b[0;32m     <a href='vscode-notebook-cell:/c%3A/Users/IDZ/Desktop/Christ/MScDSB-MDS171-23122136-Devika/Lab%2002.ipynb#W0sZmlsZQ%3D%3D?line=27'>28</a>\u001b[0m             \u001b[39mstr\u001b[39m\u001b[39m=\u001b[39m\u001b[39mstr\u001b[39m\u001b[39m+\u001b[39m\u001b[39m\"\u001b[39m\u001b[39mnine\u001b[39m\u001b[39m\"\u001b[39m\n\u001b[0;32m     <a href='vscode-notebook-cell:/c%3A/Users/IDZ/Desktop/Christ/MScDSB-MDS171-23122136-Devika/Lab%2002.ipynb#W0sZmlsZQ%3D%3D?line=28'>29</a>\u001b[0m     \u001b[39mreturn\u001b[39;00m \u001b[39mstr\u001b[39m\n\u001b[1;32m---> <a href='vscode-notebook-cell:/c%3A/Users/IDZ/Desktop/Christ/MScDSB-MDS171-23122136-Devika/Lab%2002.ipynb#W0sZmlsZQ%3D%3D?line=29'>30</a>\u001b[0m fnctn(n)            \n",
      "\u001b[1;32mc:\\Users\\IDZ\\Desktop\\Christ\\MScDSB-MDS171-23122136-Devika\\Lab 02.ipynb Cell 1\u001b[0m line \u001b[0;36m8\n\u001b[0;32m      <a href='vscode-notebook-cell:/c%3A/Users/IDZ/Desktop/Christ/MScDSB-MDS171-23122136-Devika/Lab%2002.ipynb#W0sZmlsZQ%3D%3D?line=5'>6</a>\u001b[0m \u001b[39mstr\u001b[39m\u001b[39m=\u001b[39mval\n\u001b[0;32m      <a href='vscode-notebook-cell:/c%3A/Users/IDZ/Desktop/Christ/MScDSB-MDS171-23122136-Devika/Lab%2002.ipynb#W0sZmlsZQ%3D%3D?line=6'>7</a>\u001b[0m \u001b[39mfor\u001b[39;00m i \u001b[39min\u001b[39;00m \u001b[39mrange\u001b[39m(\u001b[39m0\u001b[39m,n):\n\u001b[1;32m----> <a href='vscode-notebook-cell:/c%3A/Users/IDZ/Desktop/Christ/MScDSB-MDS171-23122136-Devika/Lab%2002.ipynb#W0sZmlsZQ%3D%3D?line=7'>8</a>\u001b[0m     \u001b[39mif\u001b[39;00m val[i]\u001b[39m==\u001b[39m \u001b[39m0\u001b[39m:\n\u001b[0;32m      <a href='vscode-notebook-cell:/c%3A/Users/IDZ/Desktop/Christ/MScDSB-MDS171-23122136-Devika/Lab%2002.ipynb#W0sZmlsZQ%3D%3D?line=8'>9</a>\u001b[0m         \u001b[39mstr\u001b[39m\u001b[39m=\u001b[39m\u001b[39mstr\u001b[39m\u001b[39m+\u001b[39m\u001b[39m\"\u001b[39m\u001b[39mzero\u001b[39m\u001b[39m\"\u001b[39m\n\u001b[0;32m     <a href='vscode-notebook-cell:/c%3A/Users/IDZ/Desktop/Christ/MScDSB-MDS171-23122136-Devika/Lab%2002.ipynb#W0sZmlsZQ%3D%3D?line=9'>10</a>\u001b[0m     \u001b[39melif\u001b[39;00m val[i] \u001b[39m==\u001b[39m \u001b[39m\"\u001b[39m\u001b[39m1\u001b[39m\u001b[39m\"\u001b[39m:\n",
      "\u001b[1;31mIndexError\u001b[0m: string index out of range"
     ]
    }
   ],
   "source": [
    "n = int(input(\"Enter the number of places\"))\n",
    "val = str(input(\"Enter the value:\"))\n",
    "\n",
    "def fnctn(n):\n",
    "    \n",
    "    str=val\n",
    "    for i in range(0,n):\n",
    "        if val[i]== 0:\n",
    "            str=str+\"zero\"\n",
    "        elif val[i] == \"1\":\n",
    "            str=str+\"one\"\n",
    "        elif val[i] == \"2\":\n",
    "            str=str+\"two\"\n",
    "        elif val[i] == \"3\":\n",
    "            str=str+\"three\"\n",
    "        elif val[i] == \"4\":\n",
    "            str=str+\"four\"\n",
    "        elif val[i] == \"5\":\n",
    "            str=str+\"five\"\n",
    "        elif val[i] == \"6\":\n",
    "            str=str+\"six\"\n",
    "        elif val[i] == \"7\":\n",
    "            str=str+\"seven\"\n",
    "        elif val[i] == \"8\":\n",
    "            str=str+\"eight\"\n",
    "        else:\n",
    "            val[i] == \"9\"\n",
    "            str=str+\"nine\"\n",
    "    return str\n",
    "fnctn(n)            \n",
    "    \n",
    "            "
   ]
  },
  {
   "cell_type": "code",
   "execution_count": null,
   "metadata": {},
   "outputs": [],
   "source": []
  }
 ],
 "metadata": {
  "kernelspec": {
   "display_name": "Python 3",
   "language": "python",
   "name": "python3"
  },
  "language_info": {
   "codemirror_mode": {
    "name": "ipython",
    "version": 3
   },
   "file_extension": ".py",
   "mimetype": "text/x-python",
   "name": "python",
   "nbconvert_exporter": "python",
   "pygments_lexer": "ipython3",
   "version": "3.11.4"
  },
  "orig_nbformat": 4
 },
 "nbformat": 4,
 "nbformat_minor": 2
}
