{
 "cells": [
  {
   "cell_type": "code",
   "execution_count": 1,
   "metadata": {},
   "outputs": [
    {
     "name": "stdout",
     "output_type": "stream",
     "text": [
      "Grocery Store Purchase List\n"
     ]
    },
    {
     "ename": "ValueError",
     "evalue": "invalid literal for int() with base 10: ''",
     "output_type": "error",
     "traceback": [
      "\u001b[1;31m---------------------------------------------------------------------------\u001b[0m",
      "\u001b[1;31mValueError\u001b[0m                                Traceback (most recent call last)",
      "Cell \u001b[1;32mIn[1], line 4\u001b[0m\n\u001b[0;32m      2\u001b[0m name\u001b[39m=\u001b[39m\u001b[39minput\u001b[39m(\u001b[39m\"\u001b[39m\u001b[39mEnter customer name:\u001b[39m\u001b[39m\"\u001b[39m)\n\u001b[0;32m      3\u001b[0m item\u001b[39m=\u001b[39m\u001b[39minput\u001b[39m(\u001b[39m\"\u001b[39m\u001b[39mEnter the item:\u001b[39m\u001b[39m\"\u001b[39m)\n\u001b[1;32m----> 4\u001b[0m qty\u001b[39m=\u001b[39m\u001b[39mint\u001b[39;49m(\u001b[39minput\u001b[39;49m(\u001b[39m\"\u001b[39;49m\u001b[39mEnter the quantity:\u001b[39;49m\u001b[39m\"\u001b[39;49m))\n\u001b[0;32m      5\u001b[0m rate\u001b[39m=\u001b[39m\u001b[39mint\u001b[39m(\u001b[39minput\u001b[39m(\u001b[39m\"\u001b[39m\u001b[39mEnter price for single quantity:\u001b[39m\u001b[39m\"\u001b[39m))\n\u001b[0;32m      6\u001b[0m price\u001b[39m=\u001b[39mqty\u001b[39m*\u001b[39mrate\n",
      "\u001b[1;31mValueError\u001b[0m: invalid literal for int() with base 10: ''"
     ]
    }
   ],
   "source": [
    "print(\"Grocery Store Purchase List\")\n",
    "name=input(\"Enter customer name:\")\n",
    "item=input(\"Enter the item:\")\n",
    "qty=int(input(\"Enter the quantity:\"))\n",
    "rate=int(input(\"Enter price for single quantity:\"))\n",
    "price=qty*rate\n",
    "\n",
    "print(item, qty, rate, price)\n",
    "\n",
    "def Purchase(name , item , rate , qty , price):\n",
    "    file = open(\"Purchase.txt\", \"a+\")\n",
    "    file.write(\"\\nName = \"+name)\n",
    "    file.write(\"\\nItem name = \"+item)\n",
    "    file.write(\"\\nRate = \"+str(rate))\n",
    "    file.write(\"\\nQuantity = \"+str(qty))\n",
    "    file.write(\"\\nPrice = \"+str(price))\n",
    "\n",
    "    file.write(\"\\n-----------------------------------------------------------------------------------------------------------\")\n",
    "    file.close()\n",
    "    return True\n",
    "Purchase(name , item , rate , qty , price)\n",
    "\n",
    "salescount = 0\n",
    "with open(\"Purchase.txt\" , \"r+\") as file :\n",
    "    for line in file:\n",
    "        if \"Quantity\" in line:\n",
    "           \n",
    "            Price = int(line.split(\"=\")[1].strip())\n",
    "            salescount += Price\n",
    "    print(\"The total quantity  = \" , salescount)\n",
    "\n",
    "\n",
    "\n",
    "totprice = 0\n",
    "with open(\"Purchase.txt\" , \"r+\") as file :\n",
    "    for line in file:\n",
    "        if \"Price\" in line:\n",
    "           \n",
    "            Price = int(line.split(\"=\")[1].strip())\n",
    "            totprice += Price\n",
    "    print(\"The total price obtained  = \" , totprice)"
   ]
  }
 ],
 "metadata": {
  "kernelspec": {
   "display_name": "Python 3",
   "language": "python",
   "name": "python3"
  },
  "language_info": {
   "codemirror_mode": {
    "name": "ipython",
    "version": 3
   },
   "file_extension": ".py",
   "mimetype": "text/x-python",
   "name": "python",
   "nbconvert_exporter": "python",
   "pygments_lexer": "ipython3",
   "version": "3.11.4"
  },
  "orig_nbformat": 4
 },
 "nbformat": 4,
 "nbformat_minor": 2
}
