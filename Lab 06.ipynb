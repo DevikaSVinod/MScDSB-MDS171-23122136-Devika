{
 "cells": [
  {
   "cell_type": "code",
   "execution_count": 15,
   "metadata": {},
   "outputs": [
    {
     "name": "stdout",
     "output_type": "stream",
     "text": [
      "Total number of vowels is 3\n",
      "Number of u is 1\n",
      "Number of e is 1\n",
      "Number of a is 1\n",
      "8\n",
      "The percentage of vowels in the string is 0.0\n"
     ]
    }
   ],
   "source": [
    "string=input(\"Enter a string:\")\n",
    "string=string.lower()\n",
    "string=string.strip()\n",
    "\n",
    "#counting total number of vowels\n",
    "def vowel_count(string):\n",
    "    count=0\n",
    "    for i in string:\n",
    "        if i=='a':\n",
    "            count=count+1\n",
    "        elif i=='e':\n",
    "            count=count+1\n",
    "        elif i=='i':\n",
    "            count=count+1\n",
    "        elif i=='o':\n",
    "            count=count+1\n",
    "        elif i=='u':\n",
    "            count=count+1\n",
    "        else:\n",
    "            continue\n",
    "    print(\"Total number of vowels is\",count)\n",
    "\n",
    "#printing and counting each vowels  \n",
    "name_list=[]\n",
    "def counting(l):\n",
    "    for i in string:\n",
    "        if i=='a':\n",
    "            name_list.append(i)\n",
    "        elif i=='e':\n",
    "            name_list.append(i)\n",
    "        elif i=='i':  \n",
    "            name_list.append(i)\n",
    "        elif i=='o':   \n",
    "            name_list.append(i)\n",
    "        elif i=='u':    \n",
    "            name_list.append(i)\n",
    "        else:\n",
    "            continue\n",
    "\n",
    "    set_list=set(name_list)\n",
    "    for unique in set_list:\n",
    "        vcount=0\n",
    "        for j in name_list:\n",
    "            if unique==j:\n",
    "                vcount=vcount+1\n",
    "        print(\"Number of\",unique,\"is\",vcount)\n",
    "\n",
    "#calculating percentage of vowels\n",
    "def percnt(p):\n",
    "    print(len(string))\n",
    "    percnt=(count/len(string))*100\n",
    "    print(\"The percentage of vowels in the string is\",percnt)\n",
    "\n",
    "vowel_count(string)\n",
    "counting(string)\n",
    "percnt(string)\n",
    "\n",
    "\n"
   ]
  },
  {
   "cell_type": "code",
   "execution_count": null,
   "metadata": {},
   "outputs": [],
   "source": []
  }
 ],
 "metadata": {
  "kernelspec": {
   "display_name": "Python 3",
   "language": "python",
   "name": "python3"
  },
  "language_info": {
   "codemirror_mode": {
    "name": "ipython",
    "version": 3
   },
   "file_extension": ".py",
   "mimetype": "text/x-python",
   "name": "python",
   "nbconvert_exporter": "python",
   "pygments_lexer": "ipython3",
   "version": "3.11.4"
  },
  "orig_nbformat": 4
 },
 "nbformat": 4,
 "nbformat_minor": 2
}
