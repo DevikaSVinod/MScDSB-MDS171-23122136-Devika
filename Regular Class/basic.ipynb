{
 "cells": [
  {
   "cell_type": "code",
   "execution_count": 1,
   "metadata": {},
   "outputs": [
    {
     "name": "stdout",
     "output_type": "stream",
     "text": [
      "hi\n"
     ]
    }
   ],
   "source": [
    "print(\"hi\")"
   ]
  },
  {
   "cell_type": "code",
   "execution_count": 4,
   "metadata": {},
   "outputs": [
    {
     "data": {
      "text/plain": [
       "'sdfgh'"
      ]
     },
     "execution_count": 4,
     "metadata": {},
     "output_type": "execute_result"
    }
   ],
   "source": [
    "a=input(\"enter your name:\")\n",
    "a"
   ]
  },
  {
   "cell_type": "code",
   "execution_count": 5,
   "metadata": {},
   "outputs": [
    {
     "data": {
      "text/plain": [
       "216.66666666666666"
      ]
     },
     "execution_count": 5,
     "metadata": {},
     "output_type": "execute_result"
    }
   ],
   "source": [
    "650/3"
   ]
  },
  {
   "cell_type": "code",
   "execution_count": 6,
   "metadata": {},
   "outputs": [
    {
     "data": {
      "text/plain": [
       "4951.666666666667"
      ]
     },
     "execution_count": 6,
     "metadata": {},
     "output_type": "execute_result"
    }
   ],
   "source": [
    "44565/9\n"
   ]
  },
  {
   "cell_type": "code",
   "execution_count": 7,
   "metadata": {},
   "outputs": [],
   "source": [
    "a=input(\"enter a number....\")\n",
    "\n"
   ]
  },
  {
   "cell_type": "code",
   "execution_count": 13,
   "metadata": {},
   "outputs": [
    {
     "name": "stdout",
     "output_type": "stream",
     "text": [
      "5.23\n"
     ]
    },
    {
     "data": {
      "text/plain": [
       "float"
      ]
     },
     "execution_count": 13,
     "metadata": {},
     "output_type": "execute_result"
    }
   ],
   "source": [
    "a=input(\"enter a number...\")\n",
    "print(a)\n",
    "a= float(a)\n",
    "type(a)"
   ]
  },
  {
   "cell_type": "code",
   "execution_count": 16,
   "metadata": {},
   "outputs": [
    {
     "name": "stdout",
     "output_type": "stream",
     "text": [
      "program start\n",
      "the number is something else....\n",
      "program end\n"
     ]
    }
   ],
   "source": [
    "a=7\n",
    "print(\"program start\")\n",
    "\n",
    "if a==5:\n",
    "    print(\"the value of A is five\")\n",
    "else:\n",
    "    print(\"the number is something else....\")\n",
    "    \n",
    "print(\"program end\")"
   ]
  },
  {
   "cell_type": "code",
   "execution_count": 1,
   "metadata": {},
   "outputs": [
    {
     "name": "stdout",
     "output_type": "stream",
     "text": [
      "ONE\n"
     ]
    }
   ],
   "source": [
    "a=1\n",
    "if a==5:\n",
    "    print(\"print five\")\n",
    "elif a==1:\n",
    "    print(\"ONE\")\n",
    "else:\n",
    "    print(\"fwhgejj\")\n"
   ]
  },
  {
   "cell_type": "markdown",
   "metadata": {},
   "source": [
    "Based on the user input,print the corresponding day of the week if 1-> sunday,if 2-> monday,....\n"
   ]
  },
  {
   "cell_type": "code",
   "execution_count": 2,
   "metadata": {},
   "outputs": [
    {
     "name": "stdout",
     "output_type": "stream",
     "text": [
      "Friday\n"
     ]
    }
   ],
   "source": [
    "a= int(input(\"enter the number\"))\n",
    "if a==1:\n",
    "    print(\"Sunday\")\n",
    "elif a==2:\n",
    "    print(\"Monday\")\n",
    "elif a==3:\n",
    "    print(\"Tuesday\")\n",
    "elif a==4:\n",
    "    print(\"Wednesday\")\n",
    "elif a==5:\n",
    "    print(\"Thursday\")\n",
    "elif a==6:\n",
    "    print(\"Friday\")\n",
    "elif a==7:\n",
    "    print(\"Saturday\")\n",
    "else:\n",
    "    print(\"wrong input\")"
   ]
  },
  {
   "cell_type": "markdown",
   "metadata": {},
   "source": [
    "#### STRING"
   ]
  },
  {
   "cell_type": "code",
   "execution_count": 3,
   "metadata": {},
   "outputs": [],
   "source": [
    "msg = \"this is a message\""
   ]
  },
  {
   "cell_type": "code",
   "execution_count": 4,
   "metadata": {},
   "outputs": [
    {
     "data": {
      "text/plain": [
       "str"
      ]
     },
     "execution_count": 4,
     "metadata": {},
     "output_type": "execute_result"
    }
   ],
   "source": [
    "type(msg)"
   ]
  },
  {
   "cell_type": "code",
   "execution_count": 5,
   "metadata": {},
   "outputs": [
    {
     "data": {
      "text/plain": [
       "'i'"
      ]
     },
     "execution_count": 5,
     "metadata": {},
     "output_type": "execute_result"
    }
   ],
   "source": [
    "msg[5]"
   ]
  },
  {
   "cell_type": "code",
   "execution_count": 9,
   "metadata": {},
   "outputs": [
    {
     "name": "stdout",
     "output_type": "stream",
     "text": [
      "17\n",
      "14\n"
     ]
    }
   ],
   "source": [
    "print(len(msg))\n",
    "print(len(\"devika s vinod\"))"
   ]
  },
  {
   "cell_type": "code",
   "execution_count": 11,
   "metadata": {},
   "outputs": [
    {
     "name": "stdout",
     "output_type": "stream",
     "text": [
      "t\n",
      "h\n",
      "i\n",
      "s\n",
      " \n",
      "i\n",
      "s\n",
      " \n",
      "a\n",
      " \n",
      "m\n",
      "e\n",
      "s\n",
      "s\n",
      "a\n",
      "g\n",
      "e\n"
     ]
    }
   ],
   "source": [
    "for i in msg:\n",
    "    print(i)"
   ]
  },
  {
   "cell_type": "code",
   "execution_count": 12,
   "metadata": {},
   "outputs": [
    {
     "data": {
      "text/plain": [
       "'THIS IS A MESSAGE'"
      ]
     },
     "execution_count": 12,
     "metadata": {},
     "output_type": "execute_result"
    }
   ],
   "source": [
    "msg.upper()"
   ]
  },
  {
   "cell_type": "code",
   "execution_count": 13,
   "metadata": {},
   "outputs": [
    {
     "data": {
      "text/plain": [
       "'this is a message'"
      ]
     },
     "execution_count": 13,
     "metadata": {},
     "output_type": "execute_result"
    }
   ],
   "source": [
    "msg"
   ]
  },
  {
   "cell_type": "markdown",
   "metadata": {},
   "source": [
    "#### strip(),split(),format()"
   ]
  },
  {
   "cell_type": "code",
   "execution_count": 4,
   "metadata": {},
   "outputs": [
    {
     "name": "stdout",
     "output_type": "stream",
     "text": [
      "<class 'str'>\n",
      "abc     \tjhsbdkc\n",
      "cm\n"
     ]
    }
   ],
   "source": [
    "name=\"    abc     \\tjhsbdkc\\ncm   \"\n",
    "print(type(name))\n",
    "print(name.strip())"
   ]
  },
  {
   "cell_type": "code",
   "execution_count": 2,
   "metadata": {},
   "outputs": [
    {
     "ename": "NameError",
     "evalue": "name 'name' is not defined",
     "output_type": "error",
     "traceback": [
      "\u001b[1;31m---------------------------------------------------------------------------\u001b[0m",
      "\u001b[1;31mNameError\u001b[0m                                 Traceback (most recent call last)",
      "\u001b[1;32mc:\\Users\\IDZ\\basic.ipynb Cell 21\u001b[0m line \u001b[0;36m1\n\u001b[1;32m----> <a href='vscode-notebook-cell:/c%3A/Users/IDZ/basic.ipynb#X26sZmlsZQ%3D%3D?line=0'>1</a>\u001b[0m \u001b[39mprint\u001b[39m(\u001b[39mlen\u001b[39m(name))\n\u001b[0;32m      <a href='vscode-notebook-cell:/c%3A/Users/IDZ/basic.ipynb#X26sZmlsZQ%3D%3D?line=1'>2</a>\u001b[0m \u001b[39mprint\u001b[39m(name\u001b[39m.\u001b[39mstrip())\n",
      "\u001b[1;31mNameError\u001b[0m: name 'name' is not defined"
     ]
    }
   ],
   "source": [
    "print(len(name))\n",
    "print(name.strip())"
   ]
  },
  {
   "cell_type": "code",
   "execution_count": 20,
   "metadata": {},
   "outputs": [
    {
     "name": "stdout",
     "output_type": "stream",
     "text": [
      "['2', '4', '3', '5', '9', '7']\n"
     ]
    }
   ],
   "source": [
    "numbers=\"2,4,3,5,9,7\"\n",
    "print(numbers.split(','))"
   ]
  },
  {
   "cell_type": "code",
   "execution_count": 21,
   "metadata": {},
   "outputs": [
    {
     "name": "stdout",
     "output_type": "stream",
     "text": [
      "2\n",
      "3\n",
      "5\n",
      "7\n",
      "2\n",
      "8\n"
     ]
    }
   ],
   "source": [
    "# \\t is used to get tab and \\n is used to jump into a new line\n",
    "\n",
    "numbers=\"2,3,5,7,2,8\"\n",
    "nos=numbers.split(',')\n",
    "for item in nos:\n",
    "    print(item)"
   ]
  },
  {
   "cell_type": "code",
   "execution_count": 23,
   "metadata": {},
   "outputs": [
    {
     "name": "stdout",
     "output_type": "stream",
     "text": [
      "40\n"
     ]
    }
   ],
   "source": [
    "numbers=[4,6,2,9,7,5,1,6]\n",
    "sum=0\n",
    "for i in numbers:\n",
    "    sum=sum+i\n",
    "print(sum)"
   ]
  },
  {
   "cell_type": "code",
   "execution_count": 30,
   "metadata": {},
   "outputs": [
    {
     "name": "stdout",
     "output_type": "stream",
     "text": [
      "['4', '2', '8', '9', '7', '5']\n",
      "4 <class 'str'> 4 <class 'int'>\n",
      "2 <class 'str'> 2 <class 'int'>\n",
      "8 <class 'str'> 8 <class 'int'>\n",
      "9 <class 'str'> 9 <class 'int'>\n",
      "7 <class 'str'> 7 <class 'int'>\n",
      "5 <class 'str'> 5 <class 'int'>\n",
      "35\n"
     ]
    }
   ],
   "source": [
    "numbers=\"4,2,8,9,7,5\"\n",
    "nos=numbers.split(',')\n",
    "print(nos)\n",
    "sum=0\n",
    "for item in nos:\n",
    "    temp=int(item)\n",
    "    sum= sum+temp\n",
    "    print(item,type(item),temp,type(temp))\n",
    "print(sum)"
   ]
  },
  {
   "cell_type": "markdown",
   "metadata": {},
   "source": [
    "#### format()"
   ]
  },
  {
   "cell_type": "code",
   "execution_count": 31,
   "metadata": {},
   "outputs": [
    {
     "name": "stdout",
     "output_type": "stream",
     "text": [
      "Your username:devika and password entered is:1243465\n"
     ]
    }
   ],
   "source": [
    "name=input(\"Enter user name:\")\n",
    "password=input(\"Enter the password\")\n",
    "print(\"Your username:{} and password entered is:{}\".format(name,password))"
   ]
  },
  {
   "cell_type": "markdown",
   "metadata": {},
   "source": [
    "#### for"
   ]
  },
  {
   "cell_type": "code",
   "execution_count": 32,
   "metadata": {},
   "outputs": [
    {
     "name": "stdout",
     "output_type": "stream",
     "text": [
      "10\n",
      "11\n",
      "12\n",
      "13\n",
      "14\n",
      "15\n",
      "16\n",
      "17\n",
      "18\n",
      "19\n"
     ]
    }
   ],
   "source": [
    "for i in range(10,20,1):\n",
    "    print(i)"
   ]
  },
  {
   "cell_type": "code",
   "execution_count": 35,
   "metadata": {},
   "outputs": [
    {
     "name": "stdout",
     "output_type": "stream",
     "text": [
      "600\n"
     ]
    }
   ],
   "source": [
    "# find the sum of n multiples of 2 where n is user input\n",
    "\n",
    "sum=0\n",
    "n=int(input(\"Enter no of terms:\")) \n",
    "for i in range(n):\n",
    "    a=i*2\n",
    "    sum=sum+a\n",
    "print(sum)\n",
    "\n"
   ]
  },
  {
   "cell_type": "markdown",
   "metadata": {},
   "source": []
  },
  {
   "cell_type": "markdown",
   "metadata": {},
   "source": [
    "#### List"
   ]
  },
  {
   "cell_type": "code",
   "execution_count": 33,
   "metadata": {},
   "outputs": [],
   "source": [
    "nlist=[\"abc\",\"hff\",23,23.67,\"we3fe\"]"
   ]
  },
  {
   "cell_type": "code",
   "execution_count": 34,
   "metadata": {},
   "outputs": [
    {
     "name": "stdout",
     "output_type": "stream",
     "text": [
      "['abc', 'hff', 23, 23.67, 'we3fe']\n"
     ]
    }
   ],
   "source": [
    "print(nlist)"
   ]
  },
  {
   "cell_type": "code",
   "execution_count": 2,
   "metadata": {},
   "outputs": [
    {
     "name": "stdout",
     "output_type": "stream",
     "text": [
      "['one', 'two', 'three', 'four']\n"
     ]
    }
   ],
   "source": [
    "listex=[\"one\",\"two\",\"three\",\"four\"]\n",
    "print(listex)\n"
   ]
  },
  {
   "cell_type": "code",
   "execution_count": 3,
   "metadata": {},
   "outputs": [
    {
     "name": "stdout",
     "output_type": "stream",
     "text": [
      "four\n"
     ]
    }
   ],
   "source": [
    "print(listex[3])"
   ]
  },
  {
   "cell_type": "code",
   "execution_count": 4,
   "metadata": {},
   "outputs": [
    {
     "name": "stdout",
     "output_type": "stream",
     "text": [
      "success\n"
     ]
    }
   ],
   "source": [
    "if \"three\" in listex:\n",
    "    print(\"success\")"
   ]
  },
  {
   "cell_type": "code",
   "execution_count": 5,
   "metadata": {},
   "outputs": [],
   "source": [
    "listex.append(\"five\")"
   ]
  },
  {
   "cell_type": "code",
   "execution_count": 6,
   "metadata": {},
   "outputs": [
    {
     "name": "stdout",
     "output_type": "stream",
     "text": [
      "['one', 'two', 'three', 'four', 'five']\n"
     ]
    }
   ],
   "source": [
    "print(listex)"
   ]
  },
  {
   "cell_type": "code",
   "execution_count": 7,
   "metadata": {},
   "outputs": [
    {
     "name": "stdout",
     "output_type": "stream",
     "text": [
      "['one', 'two', 'three', 'four', 'five', 'six']\n"
     ]
    }
   ],
   "source": [
    "# Append is a function used to add an element\n",
    "\n",
    "listex.append('six')\n",
    "print(listex)"
   ]
  },
  {
   "cell_type": "code",
   "execution_count": 8,
   "metadata": {},
   "outputs": [
    {
     "data": {
      "text/plain": [
       "'one'"
      ]
     },
     "execution_count": 8,
     "metadata": {},
     "output_type": "execute_result"
    }
   ],
   "source": [
    "# pop is a function to remove an element. By default last element will get removed or else index should be mentioned in ()\n",
    "\n",
    "listex.pop(0)"
   ]
  },
  {
   "cell_type": "code",
   "execution_count": 9,
   "metadata": {},
   "outputs": [],
   "source": [
    "listex.remove('two')"
   ]
  },
  {
   "cell_type": "code",
   "execution_count": 10,
   "metadata": {},
   "outputs": [
    {
     "name": "stdout",
     "output_type": "stream",
     "text": [
      "['three', 'four', 'five', 'six']\n"
     ]
    }
   ],
   "source": [
    "print(listex)"
   ]
  },
  {
   "cell_type": "code",
   "execution_count": 11,
   "metadata": {},
   "outputs": [
    {
     "name": "stdout",
     "output_type": "stream",
     "text": [
      "['five', 'four', 'six', 'three']\n",
      "['three', 'six', 'four', 'five']\n"
     ]
    }
   ],
   "source": [
    "# sort function helps to sort the list and reverse function will reverse the list\n",
    "\n",
    "listex.sort()\n",
    "print(listex)\n",
    "listex.reverse()\n",
    "print(listex)"
   ]
  },
  {
   "cell_type": "markdown",
   "metadata": {},
   "source": [
    "#### Functions"
   ]
  },
  {
   "cell_type": "code",
   "execution_count": 12,
   "metadata": {},
   "outputs": [],
   "source": [
    "def fname():\n",
    "    print(\"I am your function...\")\n",
    "    \n"
   ]
  },
  {
   "cell_type": "code",
   "execution_count": 13,
   "metadata": {},
   "outputs": [
    {
     "name": "stdout",
     "output_type": "stream",
     "text": [
      "I am your function...\n"
     ]
    }
   ],
   "source": [
    "fname()"
   ]
  },
  {
   "cell_type": "code",
   "execution_count": 17,
   "metadata": {},
   "outputs": [],
   "source": [
    "def fname():\n",
    "    print(\"I am your function...\")\n",
    "    retVal=\"Success\"\n",
    "    return retVal, True"
   ]
  },
  {
   "cell_type": "code",
   "execution_count": 15,
   "metadata": {},
   "outputs": [
    {
     "name": "stdout",
     "output_type": "stream",
     "text": [
      "I am your function...\n",
      "Success\n"
     ]
    }
   ],
   "source": [
    "status=fname()\n",
    "print(status)"
   ]
  },
  {
   "cell_type": "code",
   "execution_count": 18,
   "metadata": {},
   "outputs": [
    {
     "name": "stdout",
     "output_type": "stream",
     "text": [
      "I am your function...\n",
      "Success True\n"
     ]
    }
   ],
   "source": [
    "status,flag=fname()\n",
    "print(status,flag)"
   ]
  },
  {
   "cell_type": "code",
   "execution_count": 19,
   "metadata": {},
   "outputs": [],
   "source": [
    "# functions with parameter\n",
    "\n",
    "def fname(n):\n",
    "    print(\"I am your function...\",n)\n",
    "    retVal=\"Success\"\n",
    "    return retVal, True"
   ]
  },
  {
   "cell_type": "code",
   "execution_count": 20,
   "metadata": {},
   "outputs": [
    {
     "name": "stdout",
     "output_type": "stream",
     "text": [
      "I am your function... Devika\n",
      "Success True\n"
     ]
    }
   ],
   "source": [
    "name=\"Devika\"\n",
    "status,flag=fname(name)\n",
    "print(status,flag)"
   ]
  },
  {
   "cell_type": "markdown",
   "metadata": {},
   "source": [
    "Define a function that takes a list of numbers as input and return the sum of numbers,without any predefined functions"
   ]
  },
  {
   "cell_type": "code",
   "execution_count": 1,
   "metadata": {},
   "outputs": [
    {
     "data": {
      "text/plain": [
       "35"
      ]
     },
     "execution_count": 1,
     "metadata": {},
     "output_type": "execute_result"
    }
   ],
   "source": [
    "def addno(lst):\n",
    "    sum=0\n",
    "    for i in lst:\n",
    "        sum=sum+i\n",
    "    return sum\n",
    "lst=[3,5,7,2,9,5,4]\n",
    "addno(lst)"
   ]
  },
  {
   "cell_type": "code",
   "execution_count": 2,
   "metadata": {},
   "outputs": [
    {
     "name": "stdout",
     "output_type": "stream",
     "text": [
      "[3, 6, 9, 2, 6, 4]\n"
     ]
    }
   ],
   "source": [
    "n=int(input(\"Enter the no of terms:\"))\n",
    "lst=[]\n",
    "for i in range(0,n):\n",
    "    no=int(input(\"enter the number:\"))\n",
    "    lst.append(no)\n",
    "print(lst)"
   ]
  },
  {
   "cell_type": "code",
   "execution_count": 3,
   "metadata": {},
   "outputs": [
    {
     "name": "stdout",
     "output_type": "stream",
     "text": [
      "sum is 30\n"
     ]
    }
   ],
   "source": [
    "print(\"sum is\", addno(lst))"
   ]
  },
  {
   "cell_type": "code",
   "execution_count": 8,
   "metadata": {},
   "outputs": [
    {
     "name": "stdout",
     "output_type": "stream",
     "text": [
      "Sum: 49\n"
     ]
    }
   ],
   "source": [
    "def sumListfn(lst):\n",
    "    sum=0\n",
    "    # logic to sum the numbers in the list\n",
    "    for item in lst:\n",
    "        sum += int(item)\n",
    "    return sum\n",
    "userInput = input(\"Enter a list of numbers seperated via Coma\")\n",
    "# 2,3,4,5,6,7,10,23\n",
    "array = userInput.strip().split(',')\n",
    "# [\"2\",\"3\",\"4\",\"5\",\"6\",\"7\",\"10\",\"23\"]\n",
    "sum = sumListfn(array)\n",
    "print(\"Sum:\",sum)"
   ]
  },
  {
   "cell_type": "markdown",
   "metadata": {},
   "source": []
  },
  {
   "cell_type": "markdown",
   "metadata": {},
   "source": [
    "Count the number of odd and even numbers in the list and print the odd numbers count & even numbers count along with the numbers\n",
    "You will have a function that will take a list of numbers,then returns the count of odd numbers and even numbers and the new list of odd numbers and even numbers."
   ]
  },
  {
   "cell_type": "code",
   "execution_count": 14,
   "metadata": {},
   "outputs": [
    {
     "name": "stdout",
     "output_type": "stream",
     "text": [
      "[2, 4] [1, 3, 5]\n",
      "2\n",
      "3\n"
     ]
    }
   ],
   "source": [
    "n= int(input(\"Enter the number of items in list:\"))\n",
    "lst=[]\n",
    "for i in range(0,n):\n",
    "    item=int(input(\"Enter the number:\"))\n",
    "    lst.append(item)\n",
    "\n",
    "odd_list = []\n",
    "even_list = []\n",
    "\n",
    "def sort(lst):\n",
    "    for item in lst:\n",
    "        if item%2==0:\n",
    "            even_list.append(item)\n",
    "        else:\n",
    "            odd_list.append(item)\n",
    "    \n",
    "    print(even_list)\n",
    "    print(odd_list)\n",
    "\n",
    "sort(lst)\n",
    "\n",
    "count_even=len(even_list)\n",
    "count_odd=len(odd_list)\n",
    "\n",
    "print(count_even)\n",
    "print(count_odd)\n"
   ]
  },
  {
   "cell_type": "markdown",
   "metadata": {},
   "source": [
    "#### File Handling"
   ]
  },
  {
   "cell_type": "code",
   "execution_count": 13,
   "metadata": {},
   "outputs": [],
   "source": [
    "file=open(\"Sample.txt\",\"w+\")"
   ]
  },
  {
   "cell_type": "code",
   "execution_count": 17,
   "metadata": {},
   "outputs": [
    {
     "data": {
      "text/plain": [
       "42"
      ]
     },
     "execution_count": 17,
     "metadata": {},
     "output_type": "execute_result"
    }
   ],
   "source": [
    "file.write(\"This is my first line to file from python\\n\")"
   ]
  },
  {
   "cell_type": "code",
   "execution_count": 18,
   "metadata": {},
   "outputs": [],
   "source": [
    "file.close()"
   ]
  },
  {
   "cell_type": "code",
   "execution_count": 19,
   "metadata": {},
   "outputs": [
    {
     "data": {
      "text/plain": [
       "'This is my first line to file from python\\n'"
      ]
     },
     "execution_count": 19,
     "metadata": {},
     "output_type": "execute_result"
    }
   ],
   "source": [
    "file=open(\"Sample.txt\",\"r+\")\n",
    "file.readline()\n"
   ]
  },
  {
   "cell_type": "code",
   "execution_count": 20,
   "metadata": {},
   "outputs": [
    {
     "data": {
      "text/plain": [
       "['This is my first line to file from python\\n',\n",
       " 'This is my first line to file from python\\n',\n",
       " 'This is my first line to file from python\\n']"
      ]
     },
     "execution_count": 20,
     "metadata": {},
     "output_type": "execute_result"
    }
   ],
   "source": [
    "file.readlines()"
   ]
  },
  {
   "cell_type": "markdown",
   "metadata": {},
   "source": [
    "Write a function in python that accepts your details and save it into file with your name"
   ]
  },
  {
   "cell_type": "code",
   "execution_count": 1,
   "metadata": {},
   "outputs": [],
   "source": [
    "\n",
    "def saveDetails(name,email,phone):\n",
    "    filename = name+\".txt\"\n",
    "    with open (filename,\"w+\")as file:\n",
    "        file.write(\"Name\\t:\\t\"+name)\n",
    "        file.write(\"\\nEmail\\t:\\t\"+email)\n",
    "        file.write(\"\\nPhone\\t:\\t\"+phone)\n",
    "\n",
    "user_name = input('Enter your Name')\n",
    "user_email = input('Enter your Email')\n",
    "user_phone = input('Enter your Phone')\n",
    "saveDetails(user_name,user_email,user_phone)"
   ]
  },
  {
   "cell_type": "markdown",
   "metadata": {},
   "source": [
    "Write a python program that will take two operands and an operator and performs the calculation and gives the result.Also save the calculations that your program performs in a file'"
   ]
  },
  {
   "cell_type": "code",
   "execution_count": null,
   "metadata": {},
   "outputs": [],
   "source": []
  },
  {
   "cell_type": "code",
   "execution_count": 1,
   "metadata": {},
   "outputs": [
    {
     "name": "stdout",
     "output_type": "stream",
     "text": [
      "0 0\n",
      "1 1\n",
      "2 4\n",
      "3 9\n",
      "4 16\n",
      "5 25\n",
      "6 36\n"
     ]
    }
   ],
   "source": [
    "a = 0\n",
    "while a < 7:\n",
    "    res = a * a\n",
    "    print(a,res)\n",
    "    a = a + 1"
   ]
  },
  {
   "cell_type": "markdown",
   "metadata": {},
   "source": [
    "### Break and Continue"
   ]
  },
  {
   "cell_type": "code",
   "execution_count": 5,
   "metadata": {},
   "outputs": [
    {
     "name": "stdout",
     "output_type": "stream",
     "text": [
      "1\n",
      "2\n",
      "3\n",
      "4\n",
      "5\n",
      "6\n"
     ]
    }
   ],
   "source": [
    "for i in range(1,10,1):\n",
    "    if i == 7:\n",
    "        break\n",
    "    print(i)"
   ]
  },
  {
   "cell_type": "code",
   "execution_count": 3,
   "metadata": {},
   "outputs": [
    {
     "name": "stdout",
     "output_type": "stream",
     "text": [
      "1\n",
      "2\n",
      "3\n",
      "4\n",
      "5\n",
      "6\n",
      "8\n",
      "9\n"
     ]
    }
   ],
   "source": [
    "for i in range(1,10,1):\n",
    "    if i == 7:\n",
    "        continue\n",
    "    print(i)"
   ]
  },
  {
   "cell_type": "markdown",
   "metadata": {},
   "source": [
    "### Set"
   ]
  },
  {
   "cell_type": "code",
   "execution_count": 8,
   "metadata": {},
   "outputs": [
    {
     "name": "stdout",
     "output_type": "stream",
     "text": [
      "['ABC', 'ABC', 'CDF', 'ABC', 'EFD', 'BCD', 'NBG']\n",
      "{'NBG', 'CDF', 'ABC', 'EFD', 'BCD'}\n",
      "['NBG', 'CDF', 'ABC', 'EFD', 'BCD']\n"
     ]
    }
   ],
   "source": [
    "list_ex = [\"ABC\",\"ABC\",\"CDF\",\"ABC\",\"EFD\",\"BCD\",\"NBG\"]\n",
    "set_ex = set(list_ex)\n",
    "back = list(set_ex)\n",
    "print(list_ex)\n",
    "print(set_ex)\n",
    "print(back)\n",
    "\n"
   ]
  },
  {
   "cell_type": "code",
   "execution_count": 9,
   "metadata": {},
   "outputs": [
    {
     "name": "stdout",
     "output_type": "stream",
     "text": [
      "['ABC', 'ABC', 'CDF', 'ABC', 'EFD', 'BCD', 'NBG']\n",
      "{'NBG', 'CDF', 'ABC', 'EFD', 'BCD'}\n",
      "['NBG', 'CDF', 'ABC', 'EFD', 'BCD']\n",
      "<class 'list'>\n",
      "<class 'set'>\n",
      "<class 'list'>\n"
     ]
    }
   ],
   "source": [
    "list_ex = [\"ABC\",\"ABC\",\"CDF\",\"ABC\",\"EFD\",\"BCD\",\"NBG\"]\n",
    "set_ex = set(list_ex)\n",
    "back = list(set_ex)\n",
    "print(list_ex)\n",
    "print(set_ex)\n",
    "print(back)\n",
    "print(type(list_ex))\n",
    "print(type(set_ex))\n",
    "print(type(back))\n"
   ]
  },
  {
   "cell_type": "markdown",
   "metadata": {},
   "source": [
    "Create a list of 10 names that are random and repeating from user identify the unique items and their count\n",
    "\n"
   ]
  },
  {
   "cell_type": "code",
   "execution_count": 2,
   "metadata": {},
   "outputs": [
    {
     "name": "stdout",
     "output_type": "stream",
     "text": [
      "['GOKUL', 'AADITH', 'RIYA', 'DEVIKA', 'SID', 'ARDRA', 'AADITH', 'RIYA', 'GOKUL', 'GOKUL']\n"
     ]
    }
   ],
   "source": [
    "names = []\n",
    "for i in range(0,10,1):\n",
    "    name = input(\"Enter the name\")\n",
    "    name = name.strip()\n",
    "    name = name.upper()\n",
    "    names.append(name)\n",
    "print(names)"
   ]
  },
  {
   "cell_type": "code",
   "execution_count": null,
   "metadata": {},
   "outputs": [],
   "source": []
  },
  {
   "cell_type": "code",
   "execution_count": null,
   "metadata": {},
   "outputs": [],
   "source": []
  },
  {
   "cell_type": "markdown",
   "metadata": {},
   "source": [
    "### Dictionaries\n"
   ]
  },
  {
   "cell_type": "markdown",
   "metadata": {},
   "source": [
    "Values are stored in key-value pair"
   ]
  },
  {
   "cell_type": "code",
   "execution_count": 1,
   "metadata": {},
   "outputs": [],
   "source": [
    "my_dict = {\n",
    "    \"Name\": \"Devika S Vinod \",\n",
    "    \"Phone\": 9989878536,\n",
    "    \"email\": \"devikasvinod@gmail.com\"\n",
    "}"
   ]
  },
  {
   "cell_type": "code",
   "execution_count": 2,
   "metadata": {},
   "outputs": [
    {
     "name": "stdout",
     "output_type": "stream",
     "text": [
      "Devika S Vinod \n"
     ]
    }
   ],
   "source": [
    "print(my_dict[\"Name\"])"
   ]
  },
  {
   "cell_type": "code",
   "execution_count": 3,
   "metadata": {},
   "outputs": [
    {
     "name": "stdout",
     "output_type": "stream",
     "text": [
      "{'Name': 'Devika S Vinod ', 'Phone': 9989878536, 'email': 'devikasvinod@gmail.com'}\n"
     ]
    }
   ],
   "source": [
    "print(my_dict)"
   ]
  },
  {
   "cell_type": "code",
   "execution_count": 4,
   "metadata": {},
   "outputs": [
    {
     "name": "stdout",
     "output_type": "stream",
     "text": [
      "{'Name': 'Devika S Vinod ', 'Phone': 9989878536, 'email': 'devikasvinod@gmail.com', 'Address': 'CHRIST(Deemed to be University)'}\n"
     ]
    }
   ],
   "source": [
    "my_dict[\"Address\"] = \"CHRIST(Deemed to be University)\"\n",
    "print(my_dict)"
   ]
  },
  {
   "cell_type": "code",
   "execution_count": 5,
   "metadata": {},
   "outputs": [
    {
     "data": {
      "text/plain": [
       "dict_values(['Devika S Vinod ', 9989878536, 'devikasvinod@gmail.com', 'CHRIST(Deemed to be University)'])"
      ]
     },
     "execution_count": 5,
     "metadata": {},
     "output_type": "execute_result"
    }
   ],
   "source": [
    "my_dict.values()"
   ]
  },
  {
   "cell_type": "code",
   "execution_count": 7,
   "metadata": {},
   "outputs": [
    {
     "name": "stdout",
     "output_type": "stream",
     "text": [
      "dict_keys(['Name', 'Phone', 'email', 'Address'])\n",
      "Name\n",
      "Phone\n",
      "email\n",
      "Address\n"
     ]
    }
   ],
   "source": [
    "print(my_dict.keys())\n",
    "for key in my_dict.keys():\n",
    "    print(key)"
   ]
  },
  {
   "cell_type": "code",
   "execution_count": 20,
   "metadata": {},
   "outputs": [
    {
     "name": "stdout",
     "output_type": "stream",
     "text": [
      "Aadith\n",
      "Devika\n",
      "Gokul\n",
      "Riya\n",
      "Sidharth\n"
     ]
    }
   ],
   "source": [
    "students = {\n",
    "    \"Names\" : [\"Aadith\",\"Devika\",\"Gokul\",\"Riya\",\"Sidharth\"],\n",
    "    \"Rollnumbers\": [1,2,3,4,5]\n",
    "}\n",
    "for name in students[\"Names\"]:\n",
    "    print(name)\n",
    "\n",
    "\n",
    "\n",
    "  "
   ]
  },
  {
   "cell_type": "code",
   "execution_count": 21,
   "metadata": {},
   "outputs": [
    {
     "name": "stdout",
     "output_type": "stream",
     "text": [
      "Sidharth\n"
     ]
    }
   ],
   "source": [
    "print(students[\"Names\"][4])"
   ]
  },
  {
   "cell_type": "code",
   "execution_count": null,
   "metadata": {},
   "outputs": [],
   "source": [
    "mscdsb = [\n",
    "    {\n",
    "        \"Rollnumnber\" : 23122113,\n",
    "        \"Name\" : \"Devika\",\n",
    "        \"Email\" : \"devikasvnodgmail.com\",\n",
    "        \"Phone\" : 5217739178\n",
    "    },\n",
    "    {\n",
    "        \"Rollnumber\" : \n",
    "\n",
    "\n"
   ]
  },
  {
   "cell_type": "code",
   "execution_count": null,
   "metadata": {},
   "outputs": [],
   "source": []
  },
  {
   "cell_type": "code",
   "execution_count": null,
   "metadata": {},
   "outputs": [],
   "source": []
  },
  {
   "cell_type": "code",
   "execution_count": null,
   "metadata": {},
   "outputs": [],
   "source": []
  }
 ],
 "metadata": {
  "kernelspec": {
   "display_name": "Python 3",
   "language": "python",
   "name": "python3"
  },
  "language_info": {
   "codemirror_mode": {
    "name": "ipython",
    "version": 3
   },
   "file_extension": ".py",
   "mimetype": "text/x-python",
   "name": "python",
   "nbconvert_exporter": "python",
   "pygments_lexer": "ipython3",
   "version": "3.11.4"
  },
  "orig_nbformat": 4
 },
 "nbformat": 4,
 "nbformat_minor": 2
}
