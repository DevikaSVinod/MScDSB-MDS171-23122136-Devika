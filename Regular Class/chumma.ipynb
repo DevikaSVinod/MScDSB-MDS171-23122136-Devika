{
 "cells": [
  {
   "cell_type": "code",
   "execution_count": 36,
   "metadata": {},
   "outputs": [
    {
     "name": "stdout",
     "output_type": "stream",
     "text": [
      "423755\n"
     ]
    }
   ],
   "source": [
    "import random\n",
    "\n",
    "a = \"\"\n",
    "for i in range(0,6,1):\n",
    "    a += str(random.randint(0,9))\n",
    "print(a)"
   ]
  },
  {
   "cell_type": "code",
   "execution_count": null,
   "metadata": {},
   "outputs": [],
   "source": [
    "\n",
    "# restuarant\n",
    "# customers -> orders (Menu items)\n",
    "# collecting orders\n",
    "# billing\n",
    "# print bill\n",
    "# update order\n",
    "# search for an order\n",
    "\n",
    "\n",
    "\n",
    "\n",
    "import random\n",
    "\n",
    "class restuarant:\n",
    "\n",
    "    def __init__(self):\n",
    "        self.menu = {\n",
    "            \"rice\" : 40, \n",
    "            \"dal\" : 30\n",
    "        }\n",
    "        self.order = {}\n",
    "\n",
    "    def generateOrderid(self):\n",
    "        orderid = \"\"\n",
    "        for i  in range(1,6,1):\n",
    "            orderid+=str(random.randint(i,10))\n",
    "        return orderid\n",
    "    "
   ]
  },
  {
   "cell_type": "code",
   "execution_count": 5,
   "metadata": {},
   "outputs": [
    {
     "name": "stdout",
     "output_type": "stream",
     "text": [
      "['1', '2', '3']\n"
     ]
    }
   ],
   "source": []
  },
  {
   "cell_type": "code",
   "execution_count": 7,
   "metadata": {},
   "outputs": [
    {
     "name": "stdout",
     "output_type": "stream",
     "text": [
      "[1, 2]\n",
      "3\n"
     ]
    }
   ],
   "source": [
    "n = int(input(\"Enter the number of items: \"))\n",
    "list = []\n",
    "\n",
    "for i in range(0,n):\n",
    "    i = int(input(\"Enter the item: \"))\n",
    "    list.append(i)\n",
    "print(list)\n",
    "\n",
    "def listsum():\n",
    "    sum = 0\n",
    "    for item in list:\n",
    "        sum += item\n",
    "    print(sum)  \n",
    "listsum()\n"
   ]
  },
  {
   "cell_type": "code",
   "execution_count": 8,
   "metadata": {},
   "outputs": [
    {
     "ename": "ValueError",
     "evalue": "invalid literal for int() with base 10: ''",
     "output_type": "error",
     "traceback": [
      "\u001b[1;31m---------------------------------------------------------------------------\u001b[0m",
      "\u001b[1;31mValueError\u001b[0m                                Traceback (most recent call last)",
      "\u001b[1;32mc:\\Users\\IDZ\\Desktop\\Class\\chumma.ipynb Cell 5\u001b[0m line \u001b[0;36m1\n\u001b[1;32m----> <a href='vscode-notebook-cell:/c%3A/Users/IDZ/Desktop/Class/chumma.ipynb#W5sZmlsZQ%3D%3D?line=0'>1</a>\u001b[0m n \u001b[39m=\u001b[39m \u001b[39mint\u001b[39;49m(\u001b[39minput\u001b[39;49m(\u001b[39m\"\u001b[39;49m\u001b[39mEnter the number of items: \u001b[39;49m\u001b[39m\"\u001b[39;49m))\n\u001b[0;32m      <a href='vscode-notebook-cell:/c%3A/Users/IDZ/Desktop/Class/chumma.ipynb#W5sZmlsZQ%3D%3D?line=1'>2</a>\u001b[0m \u001b[39mlist\u001b[39m \u001b[39m=\u001b[39m []\n\u001b[0;32m      <a href='vscode-notebook-cell:/c%3A/Users/IDZ/Desktop/Class/chumma.ipynb#W5sZmlsZQ%3D%3D?line=3'>4</a>\u001b[0m \u001b[39mfor\u001b[39;00m i \u001b[39min\u001b[39;00m \u001b[39mrange\u001b[39m(\u001b[39m0\u001b[39m,n):\n",
      "\u001b[1;31mValueError\u001b[0m: invalid literal for int() with base 10: ''"
     ]
    }
   ],
   "source": [
    "n = int(input(\"Enter the number of items: \"))\n",
    "list = []\n",
    "\n",
    "for i in range(0,n):\n",
    "    i = int(input(\"Enter the item: \"))\n",
    "    list.append(i)\n",
    "print(list)\n",
    "\n"
   ]
  },
  {
   "cell_type": "code",
   "execution_count": 3,
   "metadata": {},
   "outputs": [],
   "source": [
    "def calcu():\n",
    "    a = (\"Enter the first number: \")\n",
    "    b = (\"Enter the second number: \")\n",
    "    operand = input(\"Enter the operand: \")\n",
    "    if operand ==\"+\":\n",
    "        print(a+b)\n",
    "    elif operand ==\"-\":\n",
    "        print(a-b)\n",
    "    elif operand ==\"*\":\n",
    "        print(a*b)\n",
    "    else:\n",
    "        print(a/b)\n",
    "\n",
    "    calcu()\n"
   ]
  },
  {
   "cell_type": "code",
   "execution_count": 4,
   "metadata": {},
   "outputs": [
    {
     "name": "stdout",
     "output_type": "stream",
     "text": [
      "3\n"
     ]
    }
   ],
   "source": [
    "def calcu():\n",
    "       \n",
    "    a = int(input('Enter the first number: '))\n",
    "    b = int(input('Enter the next number: '))\n",
    "    operand = input('Enter the operand: ')\n",
    "\n",
    "    if operand == '+':\n",
    "        print(a+b)\n",
    "    elif operand == '-':\n",
    "        print(a-b)\n",
    "    elif operand == '*':\n",
    "        print(a*b)\n",
    "    else:\n",
    "        print(a/b)\n",
    "\n",
    "\n",
    "calcu()"
   ]
  },
  {
   "cell_type": "code",
   "execution_count": 3,
   "metadata": {},
   "outputs": [
    {
     "data": {
      "text/plain": [
       "'amal'"
      ]
     },
     "execution_count": 3,
     "metadata": {},
     "output_type": "execute_result"
    }
   ],
   "source": [
    "data = {1:'naveen',2:'kiran',3:'amal'}\n",
    "data[3]\n"
   ]
  },
  {
   "cell_type": "code",
   "execution_count": 8,
   "metadata": {},
   "outputs": [
    {
     "data": {
      "text/plain": [
       "'not found'"
      ]
     },
     "execution_count": 8,
     "metadata": {},
     "output_type": "execute_result"
    }
   ],
   "source": [
    "data = {1:'naveen',2:'kiran',4:'amal'}\n",
    "data.get(3,'not found')"
   ]
  },
  {
   "cell_type": "code",
   "execution_count": 11,
   "metadata": {},
   "outputs": [
    {
     "name": "stdout",
     "output_type": "stream",
     "text": [
      "apple  mango\n"
     ]
    }
   ],
   "source": [
    "a = 'apple'\n",
    "c = 'mango'\n",
    "\n",
    "print(a,'',c)"
   ]
  },
  {
   "cell_type": "code",
   "execution_count": 21,
   "metadata": {},
   "outputs": [
    {
     "name": "stdout",
     "output_type": "stream",
     "text": [
      "[1, 2, 3]\n",
      "6\n"
     ]
    }
   ],
   "source": [
    "n = int(input(\"Enter the number of places: \"))\n",
    "list = []\n",
    "\n",
    "for i in range(0,n):\n",
    "    i = int(input(\"Enter the number\"))\n",
    "    list.append(i)\n",
    "\n",
    "print(list)\n",
    "\n",
    "sum = 0\n",
    "for item in list:\n",
    "    sum=sum+item\n",
    "print(sum)\n",
    "\n"
   ]
  },
  {
   "cell_type": "code",
   "execution_count": 22,
   "metadata": {},
   "outputs": [
    {
     "name": "stdout",
     "output_type": "stream",
     "text": [
      "[1, 2, 3]\n",
      "1\n",
      "2\n"
     ]
    }
   ],
   "source": [
    "n = int(input(\"Enter the number of items: \"))\n",
    "list=[]\n",
    "\n",
    "for i in range(0,n):\n",
    "    i=int(input(\"Enter the number\"))\n",
    "    list.append(i)\n",
    "print(list)\n",
    "\n",
    "even_list=[]\n",
    "odd_list=[]\n",
    "\n",
    "\n",
    "for item in list:\n",
    "    if item %2 ==0:\n",
    "        even_list.append(item)\n",
    "    else:\n",
    "        odd_list.append(item)\n",
    "\n",
    "count_even=len(even_list)\n",
    "count_odd=len(odd_list)\n",
    "\n",
    "print(count_even)\n",
    "print(count_odd)\n",
    "\n",
    "\n",
    "\n"
   ]
  },
  {
   "cell_type": "code",
   "execution_count": 1,
   "metadata": {},
   "outputs": [],
   "source": [
    "# Define a class expense tracker that stores the\n",
    "# expenses and income in a dicticonary\n",
    "# implement the method to \n",
    "# - store the transactions:\n",
    "# - view transactions:\n",
    "# - calculate the total expense/income\n",
    "# create a method in the class\n",
    "# to export the details in the from of csv\n",
    "# add export details to a file in the menu options\n",
    "\n",
    "class expenseTracker:\n",
    "    def __init__(self):\n",
    "        self.expense = {\n",
    "            \"income\":[],\n",
    "            \"expense\":[]\n",
    "        }\n",
    "        print(self.expense)\n",
    "\n",
    "    def store_transactions(self,type,amount,date):\n",
    "        trans = {\n",
    "            \"type\":type,\n",
    "            \"amount\":amount,\n",
    "            \"date\":date\n",
    "        }\n",
    "        if trans[\"type\"]==\"income\":\n",
    "            self.expense[\"income\"].append(trans)\n",
    "\n",
    "        else:\n",
    "            self.expense[\"expense\"].append(trans)\n",
    "\n",
    "    def view_transactions(self):\n",
    "        print(self.expense)\n",
    "\n",
    "    def total(self):\n",
    "        total_income = 0\n",
    "        total_expense = 0\n",
    "        for item in self.expense[\"income\"]:\n",
    "            total_income += item[\"amount\"]\n",
    "        for item in self.expense[\"expense\"]:\n",
    "            total_expense += item[\"amount\"]\n",
    "        print(\"total income: \",\"total expense: \", total_income,total_expense)\n",
    "\n",
    "    def store_to_csv(self):\n",
    "        file=open(\"expense tracker.csv\",\"w+\")\n",
    "        for item in self.expense[\"income\"]:\n",
    "            file.write(str(item))\n",
    "        for item in self.expense[\"expense\"]:\n",
    "            file.write(str(item))\n",
    "\n",
    "    def collect_input():\n",
    "        amount = int(input(\"Enter the amount:\"))\n",
    "        type = input(\"Enter the type: \")\n",
    "        date = input(\"Enter the date: \")\n",
    "        return amount,type,date\n",
    "\n",
    "obj = expenseTracker()\n",
    "obj.collect_input()\n",
    "obj.store_transactions(\"income\",5000,\"10/10/2023\")\n",
    "obj.view_transactions()\n",
    "obj.total()\n",
    "obj.store_to_csv()\n"
   ]
  },
  {
   "cell_type": "code",
   "execution_count": null,
   "metadata": {},
   "outputs": [],
   "source": [
    "class expenseTracker:\n",
    "    def __init__(self):\n",
    "        self.expense = {\n",
    "            \"income\"=\n",
    "            \n",
    "        }"
   ]
  },
  {
   "cell_type": "markdown",
   "metadata": {},
   "source": [
    "# Create a petstore classs where you have the details of pets available and their details.\n",
    "# The class will have methods\n",
    "# Store a new pet details\n",
    "# Search for a pet\n",
    "# Sell a pet\n",
    "# List all pets\n",
    "\n",
    "# importing your petstore class, create a petstoremain file, where you will implement a menu driven program for Admin - who will implement \n",
    "# a menu driven program for Admin - who will manage the store & user who will see the pets and buy pets.\n"
   ]
  },
  {
   "cell_type": "code",
   "execution_count": 3,
   "metadata": {},
   "outputs": [],
   "source": [
    "class petstore:\n",
    "    def __init__(self):\n",
    "        self.pet=[]\n",
    "\n",
    "def add_pet(self,name,age,breed,price):\n",
    "    pet ={\n",
    "        'name':name,\n",
    "        'age':age,\n",
    "        'breed':breed,\n",
    "        'price':price\n",
    "    }\n",
    "    self.pet.append(pet)\n",
    "\n",
    "def search_pet(self,name):\n",
    "    for pet in self.pet:\n",
    "        if pet['name']==name:\n",
    "            print(\"pet\")\n",
    "        else:\n",
    "            print(\"pet not found\")\n",
    "\n",
    "def list_pets(self,name):\n",
    "    if self.pet:\n",
    "        print(self.pet)\n",
    "    else:\n",
    "        print(\"no data available\")\n",
    "\n",
    "def remove_pet(self,name):\n",
    "    for pet in self.pet:\n",
    "        if pet['name']==name:\n",
    "            self.pet.remove(pet)\n",
    "        print(\"pet has been removed\")\n",
    "    else:\n",
    "        print(\"pet not found\")\n",
    "\n",
    "\n",
    "\n",
    "\n"
   ]
  },
  {
   "cell_type": "code",
   "execution_count": null,
   "metadata": {},
   "outputs": [],
   "source": []
  }
 ],
 "metadata": {
  "kernelspec": {
   "display_name": "Python 3",
   "language": "python",
   "name": "python3"
  },
  "language_info": {
   "codemirror_mode": {
    "name": "ipython",
    "version": 3
   },
   "file_extension": ".py",
   "mimetype": "text/x-python",
   "name": "python",
   "nbconvert_exporter": "python",
   "pygments_lexer": "ipython3",
   "version": "3.11.4"
  }
 },
 "nbformat": 4,
 "nbformat_minor": 2
}
