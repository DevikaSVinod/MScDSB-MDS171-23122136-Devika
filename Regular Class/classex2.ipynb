{
 "cells": [
  {
   "cell_type": "code",
   "execution_count": 2,
   "metadata": {},
   "outputs": [
    {
     "name": "stdout",
     "output_type": "stream",
     "text": [
      "The current options in the menu are:\n",
      "******************************\n",
      "{'rice': 30, 'idli': 10}\n",
      "******************************\n"
     ]
    },
    {
     "ename": "ValueError",
     "evalue": "invalid literal for int() with base 10: ''",
     "output_type": "error",
     "traceback": [
      "\u001b[1;31m---------------------------------------------------------------------------\u001b[0m",
      "\u001b[1;31mValueError\u001b[0m                                Traceback (most recent call last)",
      "\u001b[1;32mc:\\Users\\IDZ\\Desktop\\Class\\classex2.ipynb Cell 1\u001b[0m line \u001b[0;36m7\n\u001b[0;32m     <a href='vscode-notebook-cell:/c%3A/Users/IDZ/Desktop/Class/classex2.ipynb#W0sZmlsZQ%3D%3D?line=67'>68</a>\u001b[0m     \u001b[39m# print menu\u001b[39;00m\n\u001b[0;32m     <a href='vscode-notebook-cell:/c%3A/Users/IDZ/Desktop/Class/classex2.ipynb#W0sZmlsZQ%3D%3D?line=68'>69</a>\u001b[0m     \u001b[39m# ask user to enter the value\u001b[39;00m\n\u001b[0;32m     <a href='vscode-notebook-cell:/c%3A/Users/IDZ/Desktop/Class/classex2.ipynb#W0sZmlsZQ%3D%3D?line=69'>70</a>\u001b[0m     \u001b[39m# collect the value and update the order\u001b[39;00m\n\u001b[0;32m     <a href='vscode-notebook-cell:/c%3A/Users/IDZ/Desktop/Class/classex2.ipynb#W0sZmlsZQ%3D%3D?line=70'>71</a>\u001b[0m     \u001b[39m# print the order\u001b[39;00m\n\u001b[0;32m     <a href='vscode-notebook-cell:/c%3A/Users/IDZ/Desktop/Class/classex2.ipynb#W0sZmlsZQ%3D%3D?line=72'>73</a>\u001b[0m cbtv \u001b[39m=\u001b[39m restuarant()\n\u001b[1;32m---> <a href='vscode-notebook-cell:/c%3A/Users/IDZ/Desktop/Class/classex2.ipynb#W0sZmlsZQ%3D%3D?line=73'>74</a>\u001b[0m cbtv\u001b[39m.\u001b[39;49mcollectOrder()\n\u001b[0;32m     <a href='vscode-notebook-cell:/c%3A/Users/IDZ/Desktop/Class/classex2.ipynb#W0sZmlsZQ%3D%3D?line=74'>75</a>\u001b[0m cbtv\u001b[39m.\u001b[39mbilling()\n",
      "\u001b[1;32mc:\\Users\\IDZ\\Desktop\\Class\\classex2.ipynb Cell 1\u001b[0m line \u001b[0;36m3\n\u001b[0;32m     <a href='vscode-notebook-cell:/c%3A/Users/IDZ/Desktop/Class/classex2.ipynb#W0sZmlsZQ%3D%3D?line=36'>37</a>\u001b[0m \u001b[39mwhile\u001b[39;00m \u001b[39mTrue\u001b[39;00m:\n\u001b[0;32m     <a href='vscode-notebook-cell:/c%3A/Users/IDZ/Desktop/Class/classex2.ipynb#W0sZmlsZQ%3D%3D?line=37'>38</a>\u001b[0m     item \u001b[39m=\u001b[39m \u001b[39minput\u001b[39m(\u001b[39m\"\u001b[39m\u001b[39mEnter the item name you want to order: \u001b[39m\u001b[39m\"\u001b[39m)\n\u001b[1;32m---> <a href='vscode-notebook-cell:/c%3A/Users/IDZ/Desktop/Class/classex2.ipynb#W0sZmlsZQ%3D%3D?line=38'>39</a>\u001b[0m     qty \u001b[39m=\u001b[39m \u001b[39mint\u001b[39;49m(\u001b[39minput\u001b[39;49m(\u001b[39m\"\u001b[39;49m\u001b[39mEnter the quantity of the item: \u001b[39;49m\u001b[39m\"\u001b[39;49m))\n\u001b[0;32m     <a href='vscode-notebook-cell:/c%3A/Users/IDZ/Desktop/Class/classex2.ipynb#W0sZmlsZQ%3D%3D?line=39'>40</a>\u001b[0m     order[item] \u001b[39m=\u001b[39m qty\n\u001b[0;32m     <a href='vscode-notebook-cell:/c%3A/Users/IDZ/Desktop/Class/classex2.ipynb#W0sZmlsZQ%3D%3D?line=41'>42</a>\u001b[0m     choice \u001b[39m=\u001b[39m \u001b[39minput\u001b[39m(\u001b[39m\"\u001b[39m\u001b[39mDo you want to complete order? \u001b[39m\u001b[39m'\u001b[39m\u001b[39mY\u001b[39m\u001b[39m'\u001b[39m\u001b[39m or \u001b[39m\u001b[39m'\u001b[39m\u001b[39mN\u001b[39m\u001b[39m'\u001b[39m\u001b[39m \u001b[39m\u001b[39m\"\u001b[39m)\n",
      "\u001b[1;31mValueError\u001b[0m: invalid literal for int() with base 10: ''"
     ]
    }
   ],
   "source": [
    "# restuarant\n",
    "# customers -> orders (Menu items)\n",
    "# collecting orders\n",
    "# billing\n",
    "# print bill\n",
    "# update order\n",
    "# search for an order\n",
    "import random\n",
    "\n",
    "class restuarant:\n",
    "\n",
    "    def __init__(self):\n",
    "        self.menu = {\n",
    "            \"rice\": 30,\n",
    "            \"idli\": 10,\n",
    "        }\n",
    "        # orderid : { set of order details }\n",
    "        self.order= {}\n",
    "\n",
    "    def printMenu(self):\n",
    "        print(\"The current options in the menu are:\")\n",
    "        print(\"*\"*30)\n",
    "        print(self.menu)\n",
    "        print(\"*\"*30)\n",
    "\n",
    "    def generateOrderid(self):\n",
    "        orderid = \"\"\n",
    "        for i in range(1,6,1):\n",
    "            orderid+=str(random.randint(i,10))\n",
    "        return orderid\n",
    "\n",
    "    def collectOrder(self):\n",
    "        self.printMenu() # print menu\n",
    "        phone = input(\"Enter customer phone number: \")\n",
    "        order = {}\n",
    "        \n",
    "        while True:\n",
    "            item = input(\"Enter the item name you want to order: \")\n",
    "            qty = int(input(\"Enter the quantity of the item: \"))\n",
    "            order[item] = qty\n",
    "\n",
    "            choice = input(\"Do you want to complete order? 'Y' or 'N' \")\n",
    "            if choice == 'Y':\n",
    "                break\n",
    "        orderid = self.generateOrderid()\n",
    "        self.order[orderid] = {\n",
    "            \"Phone\" : phone,\n",
    "            \"Order\" : order\n",
    "        }\n",
    "\n",
    "    def billing(self):\n",
    "        total = 0\n",
    "        totalEarn = 0\n",
    "        for orderid in self.order:\n",
    "            print(self.order[orderid]['Order'])\n",
    "            for key in self.order[orderid]['Order']:\n",
    "                print(key)\n",
    "                print(self.order[orderid]['Order'][key]) #qty\n",
    "                print(self.menu[key]) #unit price\n",
    "                price = self.order[orderid]['Order'][key] * self.menu[key]\n",
    "                total = total+price\n",
    "                totalEarn = totalEarn+total\n",
    "                print(\"price = \",price)\n",
    "            print(\"total = \",total)\n",
    "        print(\"Earning of today is: \",totalEarn,\"Rupees\")\n",
    "\n",
    "        print(self.order)\n",
    "    # print menu\n",
    "    # ask user to enter the value\n",
    "    # collect the value and update the order\n",
    "    # print the order\n",
    "\n",
    "cbtv = restuarant()\n",
    "cbtv.collectOrder()\n",
    "cbtv.billing()\n",
    "\n",
    "\n",
    "\n"
   ]
  },
  {
   "cell_type": "code",
   "execution_count": 1,
   "metadata": {},
   "outputs": [],
   "source": []
  },
  {
   "cell_type": "code",
   "execution_count": null,
   "metadata": {},
   "outputs": [],
   "source": []
  }
 ],
 "metadata": {
  "kernelspec": {
   "display_name": "Python 3",
   "language": "python",
   "name": "python3"
  },
  "language_info": {
   "codemirror_mode": {
    "name": "ipython",
    "version": 3
   },
   "file_extension": ".py",
   "mimetype": "text/x-python",
   "name": "python",
   "nbconvert_exporter": "python",
   "pygments_lexer": "ipython3",
   "version": "3.11.4"
  }
 },
 "nbformat": 4,
 "nbformat_minor": 2
}
