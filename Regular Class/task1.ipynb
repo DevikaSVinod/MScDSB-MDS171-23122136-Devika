{
 "cells": [
  {
   "cell_type": "markdown",
   "metadata": {},
   "source": [
    "write a python program with the following specification there will be a function named create dataset which will take a dictionary,filename,number of rows as arguements. the dictionary is having the following structure{\n",
    "    \"colunmname\":[domain of values]\n",
    "}\n",
    "your function will select random values for each of the domains  and create a row for you .\n",
    "the number of rows that has to be crated is a parameter that has been taken. save the file with the number of rows.\n",
    "load this dataset using pandas and display basic information.\n"
   ]
  },
  {
   "cell_type": "code",
   "execution_count": 10,
   "metadata": {},
   "outputs": [
    {
     "name": "stdout",
     "output_type": "stream",
     "text": [
      "{'name': ['pcy', 'dzz', 'shnz', 'kunz', 'kus', 'sid'], 'age': [22, 21, 18, 19, 23, 17], 'class': [10, 6, 5, 8, 9, 11], 'roll no': [23, 19, 21, 18, 20, 17], 'hobby': ['Photography', 'Reading', 'Eating', 'Writing', 'Drawing', 'Singing'], 'mark': [89, 84, 79, 91, 75, 80]}\n"
     ]
    }
   ],
   "source": [
    "import random\n",
    "dict = {\n",
    "    \"name\":[\"pcy\",\"dzz\",\"shnz\",\"kunz\",\"kus\",\"sid\"],\n",
    "    \"age\":[22,21,18,19,23,17],\n",
    "    \"class\":[10,6,5,8,9,11],\n",
    "    \"roll no\":[23,19,21,18,20,17],\n",
    "    \"hobby\":[\"Photography\",\"Reading\",\"Eating\",\"Writing\",\"Drawing\",\"Singing\"],\n",
    "    \"mark\":[89,84,79,91,75,80]\n",
    "}\n",
    "print(dict)"
   ]
  },
  {
   "cell_type": "code",
   "execution_count": 16,
   "metadata": {},
   "outputs": [],
   "source": [
    "filename=input(\"Enter the filename\")\n",
    "rows=int(input(\"Enter the number of rows\"))\n",
    "file=open(filename,\"a+\")\n",
    "file.write(\"name\\t\"+\"\\tage\\t\"+\"\\tclass\\t\"+\"\\troll no\\t\"+\"\\thobby\\t\"+\"\\tmark\")\n",
    "for i in range(rows):\n",
    "    file.write(random.choice(dict[\"name\"])+\"\\t\"+str(random.choice(dict[\"age\"]))+\"\\t\"+str(random.choice(dict[\"class\"]))+\"\\t\"+str(random.choice(dict[\"roll no\"]))+\"\\t\"+(random.choice(dict[\"hobby\"]))+\"\\t\"+str(random.choice(dict[\"mark\"])))    \n",
    "file.close()\n",
    "\n"
   ]
  },
  {
   "cell_type": "code",
   "execution_count": null,
   "metadata": {},
   "outputs": [],
   "source": []
  }
 ],
 "metadata": {
  "kernelspec": {
   "display_name": "Python 3",
   "language": "python",
   "name": "python3"
  },
  "language_info": {
   "codemirror_mode": {
    "name": "ipython",
    "version": 3
   },
   "file_extension": ".py",
   "mimetype": "text/x-python",
   "name": "python",
   "nbconvert_exporter": "python",
   "pygments_lexer": "ipython3",
   "version": "3.11.4"
  }
 },
 "nbformat": 4,
 "nbformat_minor": 2
}
