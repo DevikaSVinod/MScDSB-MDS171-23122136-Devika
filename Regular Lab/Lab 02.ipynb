{
 "cells": [
  {
   "cell_type": "markdown",
   "metadata": {},
   "source": [
    "The Numerical Odyssey\n",
    "\n",
    "In the vibrant realm of Digiterra, there lived a princess named Alice; Alice is fascinated with recording numbers, which she asks as she meets new people when she moves around. Alice used to save the numbers in the following form\n",
    "\n",
    "Number - Input     Output\n",
    "\n",
    "98                 98NineEight\n",
    "345                345ThreeFourFive\n",
    "24                 24TwoFour\n",
    "\n",
    "You are asked to create a function to help Alice from Digiterra convert the number she enters. \n",
    "\n",
    "Demonstrate the function with various inputs, including required validations. As Data Analysis students, try to bring out some analysis with these numbers!"
   ]
  },
  {
   "cell_type": "code",
   "execution_count": 1,
   "metadata": {},
   "outputs": [
    {
     "data": {
      "text/plain": [
       "'342threefourtwo'"
      ]
     },
     "execution_count": 1,
     "metadata": {},
     "output_type": "execute_result"
    }
   ],
   "source": [
    "n = int(input(\"Enter the number of places\"))\n",
    "val = str(input(\"Enter the value:\"))\n",
    "\n",
    "def fnctn(n):\n",
    "    \n",
    "    str=val\n",
    "    for i in range(0,n):\n",
    "        if val[i]== 0:\n",
    "            str=str+\"zero\"\n",
    "        elif val[i] == \"1\":\n",
    "            str=str+\"one\"\n",
    "        elif val[i] == \"2\":\n",
    "            str=str+\"two\"\n",
    "        elif val[i] == \"3\":\n",
    "            str=str+\"three\"\n",
    "        elif val[i] == \"4\":\n",
    "            str=str+\"four\"\n",
    "        elif val[i] == \"5\":\n",
    "            str=str+\"five\"\n",
    "        elif val[i] == \"6\":\n",
    "            str=str+\"six\"\n",
    "        elif val[i] == \"7\":\n",
    "            str=str+\"seven\"\n",
    "        elif val[i] == \"8\":\n",
    "            str=str+\"eight\"\n",
    "        else:\n",
    "            val[i] == \"9\"\n",
    "            str=str+\"nine\"\n",
    "    return str\n",
    "fnctn(n)            \n",
    "    \n",
    "            "
   ]
  },
  {
   "cell_type": "code",
   "execution_count": null,
   "metadata": {},
   "outputs": [],
   "source": []
  }
 ],
 "metadata": {
  "kernelspec": {
   "display_name": "Python 3",
   "language": "python",
   "name": "python3"
  },
  "language_info": {
   "codemirror_mode": {
    "name": "ipython",
    "version": 3
   },
   "file_extension": ".py",
   "mimetype": "text/x-python",
   "name": "python",
   "nbconvert_exporter": "python",
   "pygments_lexer": "ipython3",
   "version": "3.11.4"
  },
  "orig_nbformat": 4
 },
 "nbformat": 4,
 "nbformat_minor": 2
}
