{
 "cells": [
  {
   "cell_type": "markdown",
   "metadata": {},
   "source": [
    "From Farm to Table: The Grocery Store Management System\n",
    "\n",
    "In the heart of the vibrant town of Freshville was a quaint little grocery store named \"Farmers' Harvest.\" Owned by a passionate entrepreneur named Emily, Farmers' Harvest was renowned for its locally sourced produce, friendly atmosphere, and commitment to community sustainability.\n",
    "\n",
    "Emily had always dreamed of owning a grocery store that offered the community fresh, local, and organic produce. Her vision was to create a place where people could shop for quality groceries and connect with local farmers and artisans. She opened Farmers' Harvest with unwavering determination and a love for sustainable living.\n",
    "\n",
    "As Farmers' Harvest gained popularity, it faced a significant challenge – efficiently managing sales. Emily realized she needed a robust Grocery Store Management System (GSMS) to maintain the store's reputation for quality and freshness.\n",
    "\n",
    "Emily hired you as a team lead for a talented set of developers: Alex, Lisa, and Carlos. Together, you will create an advanced GSMS to revolutionise Farmers' Harvest.\n",
    "\n",
    "The software Emily is looking for is straightforward and has to store the orders in a file the store gets from its customers.\n",
    "\n",
    "As a data analyst specialist, gather insights from their customers' orders received for Farmers' Harvest in Freshville over time and display them to Emily as she uses your Application."
   ]
  },
  {
   "cell_type": "code",
   "execution_count": 2,
   "metadata": {},
   "outputs": [
    {
     "name": "stdout",
     "output_type": "stream",
     "text": [
      "Grocery Store Purchase List\n",
      "tomato 5 5 25\n",
      "The total quantity  =  5\n",
      "The total price obtained  =  25\n"
     ]
    }
   ],
   "source": [
    "print(\"Grocery Store Purchase List\")\n",
    "name=input(\"Enter customer name:\")\n",
    "item=input(\"Enter the item:\")\n",
    "qty=int(input(\"Enter the quantity:\"))\n",
    "rate=int(input(\"Enter price for single quantity:\"))\n",
    "price=qty*rate\n",
    "\n",
    "print(item, qty, rate, price)\n",
    "\n",
    "def Purchase(name , item , rate , qty , price):\n",
    "    file = open(\"Purchase.txt\", \"a+\")\n",
    "    file.write(\"\\nName = \" + name)\n",
    "    file.write(\"\\nItem name = \" + item)\n",
    "    file.write(\"\\nRate = \" + str(rate))\n",
    "    file.write(\"\\nQuantity = \" + str(qty))\n",
    "    file.write(\"\\nPrice = \" + str(price))\n",
    "\n",
    "    file.write(\"\\n-----------------------------------------------------------------------------------------------------------\")\n",
    "    file.close()\n",
    "    return True\n",
    "Purchase(name , item , rate , qty , price)\n",
    "\n",
    "salescount = 0\n",
    "with open(\"Purchase.txt\" , \"r+\") as file :\n",
    "    for line in file:\n",
    "        if \"Quantity\" in line:\n",
    "            Price = int(line.split(\"=\")[1].strip())\n",
    "            salescount += Price\n",
    "    print(\"The total quantity  = \" , salescount)\n",
    "\n",
    "\n",
    "x\n",
    "totprice = 0\n",
    "with open(\"Purchase.txt\" , \"r+\") as file :\n",
    "    for line in file:\n",
    "        if \"Price\" in line:\n",
    "           \n",
    "            Price = int(line.split(\"=\")[1].strip())\n",
    "            totprice += Price\n",
    "    print(\"The total price obtained  = \" , totprice)"
   ]
  }
 ],
 "metadata": {
  "kernelspec": {
   "display_name": "Python 3",
   "language": "python",
   "name": "python3"
  },
  "language_info": {
   "codemirror_mode": {
    "name": "ipython",
    "version": 3
   },
   "file_extension": ".py",
   "mimetype": "text/x-python",
   "name": "python",
   "nbconvert_exporter": "python",
   "pygments_lexer": "ipython3",
   "version": "3.11.4"
  },
  "orig_nbformat": 4
 },
 "nbformat": 4,
 "nbformat_minor": 2
}
