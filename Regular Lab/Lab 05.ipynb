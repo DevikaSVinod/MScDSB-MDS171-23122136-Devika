{
 "cells": [
  {
   "cell_type": "code",
   "execution_count": null,
   "metadata": {},
   "outputs": [],
   "source": [
    "#Write a program for collecting a string from the user and counting the number of vowels.\n",
    "#Print the total count of vowels\n",
    "#Print each vowel and its count\n",
    "#Calculate the percentage of vowels in the given string"
   ]
  },
  {
   "cell_type": "code",
   "execution_count": 3,
   "metadata": {},
   "outputs": [
    {
     "name": "stdout",
     "output_type": "stream",
     "text": [
      "Total number of vowels is:  6\n",
      "The vowels are:  {'i', 'e', 'a', 'u'}\n",
      "Number of i is:  1\n",
      "Number of e is:  2\n",
      "Number of a is:  2\n",
      "Number of u is:  1\n",
      "The percentage of vowels in the string is:  50.0\n"
     ]
    }
   ],
   "source": [
    "sentence = input(\"Enter a string: \")\n",
    "sentence = sentence.lower()\n",
    "\n",
    "# counting total number of vowels\n",
    "\n",
    "def vowels(s):\n",
    "    count = 0\n",
    "    for i in sentence:\n",
    "        if i == 'a':\n",
    "            count = count+1\n",
    "        elif i == 'e':\n",
    "            count = count+1\n",
    "        elif i == 'i':\n",
    "            count = count+1\n",
    "        elif i == 'o':\n",
    "            count = count+1\n",
    "        elif i == 'u':\n",
    "            count = count+1\n",
    "        else:\n",
    "            continue\n",
    "    print(\"Total number of vowels is: \" , count)\n",
    "\n",
    "# printing and counting each vowels\n",
    "\n",
    "name_lst = []\n",
    "\n",
    "def ennam(l):\n",
    "    for i in sentence:\n",
    "        if i == 'a':\n",
    "            name_lst.append(i)\n",
    "        elif i == 'e':\n",
    "            name_lst.append(i)\n",
    "        elif i == 'i':  \n",
    "            name_lst.append(i)\n",
    "        elif i == 'o':   \n",
    "            name_lst.append(i)\n",
    "        elif i == 'u':    \n",
    "            name_lst.append(i)\n",
    "        else:\n",
    "            continue\n",
    "    \n",
    "\n",
    "    set_lst = set(name_lst)\n",
    "    print(\"The vowels are: \" , set_lst)\n",
    "    for unique in set_lst:\n",
    "        vcount = 0\n",
    "        for j in name_lst:\n",
    "            if unique == j:\n",
    "                vcount = vcount+1\n",
    "        print(\"Number of\" , unique , \"is: \" , vcount)\n",
    "\n",
    "# calculating percentage of vowels\n",
    "\n",
    "def perc(p):\n",
    "    perc = (count/len(string)) * 100\n",
    "    print(\"The percentage of vowels in the string is: \" , perc)\n",
    "\n",
    "# calling all functions\n",
    "\n",
    "vowels(sentence)\n",
    "ennam(sentence)\n",
    "perc(string)\n"
   ]
  },
  {
   "cell_type": "code",
   "execution_count": null,
   "metadata": {},
   "outputs": [],
   "source": []
  }
 ],
 "metadata": {
  "kernelspec": {
   "display_name": "Python 3",
   "language": "python",
   "name": "python3"
  },
  "language_info": {
   "codemirror_mode": {
    "name": "ipython",
    "version": 3
   },
   "file_extension": ".py",
   "mimetype": "text/x-python",
   "name": "python",
   "nbconvert_exporter": "python",
   "pygments_lexer": "ipython3",
   "version": "3.11.4"
  },
  "orig_nbformat": 4
 },
 "nbformat": 4,
 "nbformat_minor": 2
}
